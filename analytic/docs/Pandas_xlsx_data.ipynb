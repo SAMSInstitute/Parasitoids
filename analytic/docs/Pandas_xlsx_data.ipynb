{
 "cells": [
  {
   "cell_type": "markdown",
   "metadata": {},
   "source": [
    "# Loading/Manipulating excel data with Pandas"
   ]
  },
  {
   "cell_type": "code",
   "execution_count": 46,
   "metadata": {
    "collapsed": false
   },
   "outputs": [
    {
     "name": "stdout",
     "output_type": "stream",
     "text": [
      "19\n"
     ]
    },
    {
     "data": {
      "text/plain": [
       "id                    object\n",
       "date          datetime64[ns]\n",
       "Efemales               int64\n",
       "Emales                 int64\n",
       "morpho1                int64\n",
       "morpho2                int64\n",
       "morpho3                int64\n",
       "morpho4                int64\n",
       "morpho5                int64\n",
       "morpho6                int64\n",
       "Wfnum                  int64\n",
       "All_total              int64\n",
       "E_total                int64\n",
       "datePR       timedelta64[ns]\n",
       "dtype: object"
      ]
     },
     "execution_count": 46,
     "metadata": {},
     "output_type": "execute_result"
    }
   ],
   "source": [
    "import pandas as pd\n",
    "import numpy as np\n",
    "\n",
    "data_loc = '../data/sampling_details.xlsx'\n",
    "\n",
    "release_date = pd.Timestamp('2005-03-15')\n",
    "\n",
    "# load the sentinel fields sheet\n",
    "sentinel_fields_data = pd.read_excel(data_loc,sheetname='Kal-sentinels-raw')\n",
    "# rename the headings with spaces in them\n",
    "sentinel_fields_data.rename(columns={\"Field descrip\":\"descrip\",\"date emerged\":\"date\", \n",
    "                                     \"Field ID (jpgs)\": \"id\",\n",
    "                                     \"Field ID (paper)\":\"paperid\"}, inplace=True)\n",
    "sentinel_fields_data.drop('descrip',1,inplace=True)\n",
    "sentinel_fields_data.drop('paperid',1,inplace=True)\n",
    "sentinel_fields_data.sort_values(['id','date'], inplace=True)\n",
    "# get sum of all the emergences\n",
    "col_list = list(sentinel_fields_data)\n",
    "for name in ['id','date']:\n",
    "    col_list.remove(name)\n",
    "sentinel_fields_data['All_total'] = sentinel_fields_data[col_list].sum(axis=1)\n",
    "# get the number of E Hayati emergences per day\n",
    "sentinel_fields_data['E_total'] = sentinel_fields_data[['Efemales','Emales']].sum(axis=1)\n",
    "sentinel_fields_data['datePR'] = sentinel_fields_data['date'] - release_date\n",
    "print(sentinel_fields_data['datePR'].min().days)\n",
    "PR29 = sentinel_fields_data['datePR'] == pd.Timedelta('29 days')\n",
    "sentinel_fields_data[PR29].dtypes"
   ]
  }
 ],
 "metadata": {
  "kernelspec": {
   "display_name": "Python 3",
   "language": "python",
   "name": "python3"
  },
  "language_info": {
   "codemirror_mode": {
    "name": "ipython",
    "version": 3
   },
   "file_extension": ".py",
   "mimetype": "text/x-python",
   "name": "python",
   "nbconvert_exporter": "python",
   "pygments_lexer": "ipython3",
   "version": "3.5.1"
  }
 },
 "nbformat": 4,
 "nbformat_minor": 0
}
